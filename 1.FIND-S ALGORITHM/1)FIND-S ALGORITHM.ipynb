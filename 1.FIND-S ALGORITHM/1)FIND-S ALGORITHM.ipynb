{
 "cells": [
  {
   "cell_type": "code",
   "execution_count": 1,
   "id": "24dfc3dc",
   "metadata": {},
   "outputs": [
    {
     "name": "stdout",
     "output_type": "stream",
     "text": [
      "[\"'Sunny'\", \"'Warm'\", \"'Normal'\", \"'Strong'\", \"'Warm'\", \"'Same'\", 'TRUE']\n",
      "[\"'Sunny'\", \"'Warm'\", \"'High'\", \"'Strong'\", \"'Warm'\", \"'Same'\", 'TRUE']\n",
      "[\"'Rainy'\", \"'Cold'\", \"'High'\", \"'Strong'\", \"'Warm'\", \"'Change'\", 'FALSE']\n",
      "[\"'Sunny'\", \"'Warm'\", \"'High'\", \"'Strong'\", \"'Cool'\", \"'Change'\", 'TRUE']\n",
      "The maximally specific hypothesis for a given training example is: \n",
      "[[\"'Sunny'\", \"'Warm'\", '?', \"'Strong'\", '?', '?']]\n"
     ]
    }
   ],
   "source": [
    "import csv\n",
    "with open('/home/user/Desktop/dat.csv', 'r') as f: \n",
    "    reader = csv.reader(f)\n",
    "    headers = next(reader) \n",
    "    your_list = list(reader)\n",
    "h = [['0', '0', '0', '0', '0', '0']]\n",
    "for i in your_list:\n",
    "    print(i)\n",
    "    if i[-1] == \"TRUE\":\n",
    "        j = 0\n",
    "        for x in i:\n",
    "            if x != \"TRUE\":\n",
    "                if x != h[0][j] and h[0][j] == '0':\n",
    "                    h[0][j] = x\n",
    "                elif x != h[0][j] and h[0][j] != '0':\n",
    "                    h[0][j] = '?'\n",
    "                else:\n",
    "            \n",
    "                    pass  \n",
    "                j = j + 1\n",
    "print(\"The maximally specific hypothesis for a given training example is: \") \n",
    "print(h)\n"
   ]
  },
  {
   "cell_type": "code",
   "execution_count": null,
   "id": "25a8a8a3",
   "metadata": {},
   "outputs": [],
   "source": []
  }
 ],
 "metadata": {
  "kernelspec": {
   "display_name": "Python 3 (ipykernel)",
   "language": "python",
   "name": "python3"
  },
  "language_info": {
   "codemirror_mode": {
    "name": "ipython",
    "version": 3
   },
   "file_extension": ".py",
   "mimetype": "text/x-python",
   "name": "python",
   "nbconvert_exporter": "python",
   "pygments_lexer": "ipython3",
   "version": "3.9.7"
  }
 },
 "nbformat": 4,
 "nbformat_minor": 5
}
