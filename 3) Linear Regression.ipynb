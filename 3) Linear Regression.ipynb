{
 "cells": [
  {
   "cell_type": "code",
   "execution_count": 1,
   "id": "661105c0",
   "metadata": {},
   "outputs": [
    {
     "name": "stdout",
     "output_type": "stream",
     "text": [
      "estimated coefficients:\n",
      "b_0=1.2363636363636363\n",
      "b_1=1.1696969696969697\n"
     ]
    },
    {
     "data": {
      "image/png": "[encoded data removed]",
      "text/plain": [
       "<Figure size 432x288 with 1 Axes>"
      ]
     },
     "metadata": {
      "needs_background": "light"
     },
     "output_type": "display_data"
    }
   ],
   "source": [
    "import numpy as np \n",
    "import matplotlib.pyplot as plt\n",
    "def estimate_coef(x, y):\n",
    "    n =np.size(x)\n",
    "    m_x,m_y=np.mean(x),np.mean(y)\n",
    "    SS_xy=np.sum(y*x)-n*m_y*m_x\n",
    "    SS_xx=np.sum(x*x)-n*m_x*m_x\n",
    "    b_1=SS_xy/SS_xx\n",
    "    b_0=m_y-b_1*m_x\n",
    "    return(b_0,b_1)\n",
    "def plot_regline(x,y,b):\n",
    "    plt.scatter(x,y,color=\"m\",marker=\"o\",s=30)\n",
    "    y_pred=b[0]+b[1]*x\n",
    "    plt.plot(x, y_pred, color = \"g\")\n",
    "    plt.ylabel('x')\n",
    "    plt.ylabel('y')\n",
    "    plt.show()\n",
    "def main():\n",
    "    x=np.array([0,1,2,3,4,5,6,7,8,9])\n",
    "    y=np.array([1,3,2,5,7,8,8,9,10,12])\n",
    "    b=estimate_coef(x,y)\n",
    "    print(\"estimated coefficients:\\nb_0={}\\nb_1={}\".format(b[0],b[1]))\n",
    "    plot_regline(x,y,b)\n",
    "if __name__==\"__main__\":\n",
    "    main()"
   ]
  },
  {
   "cell_type": "code",
   "execution_count": null,
   "id": "8a62040a",
   "metadata": {},
   "outputs": [],
   "source": []
  }
 ],
 "metadata": {
  "kernelspec": {
   "display_name": "Python 3 (ipykernel)",
   "language": "python",
   "name": "python3"
  },
  "language_info": {
   "codemirror_mode": {
    "name": "ipython",
    "version": 3
   },
   "file_extension": ".py",
   "mimetype": "text/x-python",
   "name": "python",
   "nbconvert_exporter": "python",
   "pygments_lexer": "ipython3",
   "version": "3.9.7"
  }
 },
 "nbformat": 4,
 "nbformat_minor": 5
}
